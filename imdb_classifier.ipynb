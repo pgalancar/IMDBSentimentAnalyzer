{
 "cells": [
  {
   "cell_type": "code",
   "execution_count": 33,
   "metadata": {},
   "outputs": [],
   "source": [
    "#Import Libraries\n",
    "import pandas as pd\n",
    "import numpy as np"
   ]
  },
  {
   "cell_type": "markdown",
   "metadata": {},
   "source": [
    "## 1. Read the file, incorporate the instances into the training set and testing set. "
   ]
  },
  {
   "cell_type": "code",
   "execution_count": 34,
   "metadata": {},
   "outputs": [
    {
     "data": {
      "text/html": [
       "<div>\n",
       "<style scoped>\n",
       "    .dataframe tbody tr th:only-of-type {\n",
       "        vertical-align: middle;\n",
       "    }\n",
       "\n",
       "    .dataframe tbody tr th {\n",
       "        vertical-align: top;\n",
       "    }\n",
       "\n",
       "    .dataframe thead th {\n",
       "        text-align: right;\n",
       "    }\n",
       "</style>\n",
       "<table border=\"1\" class=\"dataframe\">\n",
       "  <thead>\n",
       "    <tr style=\"text-align: right;\">\n",
       "      <th></th>\n",
       "      <th>Unnamed: 0</th>\n",
       "      <th>review</th>\n",
       "      <th>sentiment</th>\n",
       "    </tr>\n",
       "  </thead>\n",
       "  <tbody>\n",
       "    <tr>\n",
       "      <th>0</th>\n",
       "      <td>0</td>\n",
       "      <td>Quite a production from the director telling t...</td>\n",
       "      <td>positive</td>\n",
       "    </tr>\n",
       "    <tr>\n",
       "      <th>1</th>\n",
       "      <td>1</td>\n",
       "      <td>An unbelievable plot, laughable characters, an...</td>\n",
       "      <td>negative</td>\n",
       "    </tr>\n",
       "    <tr>\n",
       "      <th>2</th>\n",
       "      <td>2</td>\n",
       "      <td>This movie was horrible. I swear they didn't e...</td>\n",
       "      <td>negative</td>\n",
       "    </tr>\n",
       "    <tr>\n",
       "      <th>3</th>\n",
       "      <td>3</td>\n",
       "      <td>Simply miserable Lana Turner-Ezio Pinza vehicl...</td>\n",
       "      <td>negative</td>\n",
       "    </tr>\n",
       "    <tr>\n",
       "      <th>4</th>\n",
       "      <td>4</td>\n",
       "      <td>If there's one good suspenseful film, this is ...</td>\n",
       "      <td>positive</td>\n",
       "    </tr>\n",
       "    <tr>\n",
       "      <th>...</th>\n",
       "      <td>...</td>\n",
       "      <td>...</td>\n",
       "      <td>...</td>\n",
       "    </tr>\n",
       "    <tr>\n",
       "      <th>18995</th>\n",
       "      <td>18995</td>\n",
       "      <td>I had such high hopes for this film because I ...</td>\n",
       "      <td>negative</td>\n",
       "    </tr>\n",
       "    <tr>\n",
       "      <th>18996</th>\n",
       "      <td>18996</td>\n",
       "      <td>Clint Tollinger arrives in a small town lookin...</td>\n",
       "      <td>positive</td>\n",
       "    </tr>\n",
       "    <tr>\n",
       "      <th>18997</th>\n",
       "      <td>18997</td>\n",
       "      <td>This is by far the worst ever 'horror' movie, ...</td>\n",
       "      <td>negative</td>\n",
       "    </tr>\n",
       "    <tr>\n",
       "      <th>18998</th>\n",
       "      <td>18998</td>\n",
       "      <td>Let me start off by saying that this doesn't s...</td>\n",
       "      <td>negative</td>\n",
       "    </tr>\n",
       "    <tr>\n",
       "      <th>18999</th>\n",
       "      <td>18999</td>\n",
       "      <td>As much as 'The Beginning' showed that we're s...</td>\n",
       "      <td>positive</td>\n",
       "    </tr>\n",
       "  </tbody>\n",
       "</table>\n",
       "<p>19000 rows × 3 columns</p>\n",
       "</div>"
      ],
      "text/plain": [
       "       Unnamed: 0                                             review sentiment\n",
       "0               0  Quite a production from the director telling t...  positive\n",
       "1               1  An unbelievable plot, laughable characters, an...  negative\n",
       "2               2  This movie was horrible. I swear they didn't e...  negative\n",
       "3               3  Simply miserable Lana Turner-Ezio Pinza vehicl...  negative\n",
       "4               4  If there's one good suspenseful film, this is ...  positive\n",
       "...           ...                                                ...       ...\n",
       "18995       18995  I had such high hopes for this film because I ...  negative\n",
       "18996       18996  Clint Tollinger arrives in a small town lookin...  positive\n",
       "18997       18997  This is by far the worst ever 'horror' movie, ...  negative\n",
       "18998       18998  Let me start off by saying that this doesn't s...  negative\n",
       "18999       18999  As much as 'The Beginning' showed that we're s...  positive\n",
       "\n",
       "[19000 rows x 3 columns]"
      ]
     },
     "execution_count": 34,
     "metadata": {},
     "output_type": "execute_result"
    }
   ],
   "source": [
    "#Read file and create dataframe\n",
    "df = pd.read_csv('imdbDataset.csv')\n",
    "pd.set_option('display.max_columns', None)\n",
    "df"
   ]
  },
  {
   "cell_type": "markdown",
   "metadata": {},
   "source": [
    "## 2. Pre-processing"
   ]
  },
  {
   "cell_type": "code",
   "execution_count": 35,
   "metadata": {},
   "outputs": [
    {
     "name": "stderr",
     "output_type": "stream",
     "text": [
      "C:\\Users\\patog\\AppData\\Local\\Temp\\ipykernel_17472\\1176480152.py:28: SettingWithCopyWarning: \n",
      "A value is trying to be set on a copy of a slice from a DataFrame\n",
      "\n",
      "See the caveats in the documentation: https://pandas.pydata.org/pandas-docs/stable/user_guide/indexing.html#returning-a-view-versus-a-copy\n",
      "  df['review'][i] = clean_text(df['review'][i])\n"
     ]
    }
   ],
   "source": [
    "#Import Libraries\n",
    "import re\n",
    "import nltk\n",
    "from nltk.corpus import stopwords\n",
    "\n",
    "#Create function that will remove HTML tags, non_alphanumeric characters and symbols using regex and remove stopwords with nltk\n",
    "def clean_text(text):\n",
    "    # Remove HTML tags\n",
    "    ct = re.sub('<.*?>', '', text)\n",
    "    \n",
    "    # Remove non-alphanumeric characters and symbols\n",
    "    ct = re.sub(r'[^a-zA-Z\\s]', '', ct)\n",
    "    \n",
    "    # Convert to lowercase\n",
    "    ct = ct.lower()\n",
    "    \n",
    "    #Import stop words from the english language\n",
    "    stop_words = set(stopwords.words('english'))\n",
    "    #Tokenize current review text\n",
    "    words = nltk.word_tokenize(ct)\n",
    "    #Keep word if it's not in stop words that were imported.\n",
    "    filtered_words = [word for word in words if word.lower() not in stop_words]\n",
    "    #Return cleaned string\n",
    "    return ' '.join(filtered_words)\n",
    "\n",
    "#Apply function to the each row of the df to clean the data\n",
    "for i in range(len(df['review'])):\n",
    "    df['review'][i] = clean_text(df['review'][i])"
   ]
  },
  {
   "cell_type": "markdown",
   "metadata": {},
   "source": [
    "## Separate data into training and testing"
   ]
  },
  {
   "cell_type": "code",
   "execution_count": 36,
   "metadata": {},
   "outputs": [],
   "source": [
    "#Separate the data into 2 dataframes, Training(80%) and Testing(20%)\n",
    "train = df.head(15200)\n",
    "test = df.tail(3800)\n",
    "\n",
    "#Do a sample of the data so the rows are randomized in order to avoid pattern learning.\n",
    "train = train.sample(frac=1)\n",
    "#Reset index of dataframe so it begins with 0 and goes in that order. We repeat for the rest of dataframes.\n",
    "train = train.reset_index(drop=True)\n",
    "#Repeat for test and validation dataframes.\n",
    "test = test.sample(frac=1)\n",
    "test = test.reset_index(drop=True)"
   ]
  },
  {
   "cell_type": "markdown",
   "metadata": {},
   "source": [
    "## 3. Analysing feature of training set"
   ]
  },
  {
   "cell_type": "code",
   "execution_count": 37,
   "metadata": {},
   "outputs": [
    {
     "name": "stderr",
     "output_type": "stream",
     "text": [
      "C:\\Users\\patog\\AppData\\Local\\Temp\\ipykernel_17472\\2012305262.py:4: SettingWithCopyWarning: \n",
      "A value is trying to be set on a copy of a slice from a DataFrame\n",
      "\n",
      "See the caveats in the documentation: https://pandas.pydata.org/pandas-docs/stable/user_guide/indexing.html#returning-a-view-versus-a-copy\n",
      "  train['Quantity'][i] = np.char.count(train['review'][i], ' ') + 1\n"
     ]
    }
   ],
   "source": [
    "#Create a new column that will contain quantity of words per review.\n",
    "train['Quantity'] = 0\n",
    "for i in range(len(train)):\n",
    "    train['Quantity'][i] = np.char.count(train['review'][i], ' ') + 1"
   ]
  },
  {
   "cell_type": "markdown",
   "metadata": {},
   "source": [
    "### Review Length"
   ]
  },
  {
   "cell_type": "code",
   "execution_count": 38,
   "metadata": {},
   "outputs": [
    {
     "data": {
      "text/html": [
       "<div>\n",
       "<style scoped>\n",
       "    .dataframe tbody tr th:only-of-type {\n",
       "        vertical-align: middle;\n",
       "    }\n",
       "\n",
       "    .dataframe tbody tr th {\n",
       "        vertical-align: top;\n",
       "    }\n",
       "\n",
       "    .dataframe thead th {\n",
       "        text-align: right;\n",
       "    }\n",
       "</style>\n",
       "<table border=\"1\" class=\"dataframe\">\n",
       "  <thead>\n",
       "    <tr style=\"text-align: right;\">\n",
       "      <th></th>\n",
       "      <th>Unnamed: 0</th>\n",
       "      <th>Quantity</th>\n",
       "    </tr>\n",
       "  </thead>\n",
       "  <tbody>\n",
       "    <tr>\n",
       "      <th>mean</th>\n",
       "      <td>7599.500000</td>\n",
       "      <td>118.329211</td>\n",
       "    </tr>\n",
       "    <tr>\n",
       "      <th>std</th>\n",
       "      <td>4388.006381</td>\n",
       "      <td>89.308038</td>\n",
       "    </tr>\n",
       "    <tr>\n",
       "      <th>min</th>\n",
       "      <td>0.000000</td>\n",
       "      <td>3.000000</td>\n",
       "    </tr>\n",
       "    <tr>\n",
       "      <th>25%</th>\n",
       "      <td>3799.750000</td>\n",
       "      <td>64.000000</td>\n",
       "    </tr>\n",
       "    <tr>\n",
       "      <th>50%</th>\n",
       "      <td>7599.500000</td>\n",
       "      <td>88.000000</td>\n",
       "    </tr>\n",
       "    <tr>\n",
       "      <th>75%</th>\n",
       "      <td>11399.250000</td>\n",
       "      <td>143.000000</td>\n",
       "    </tr>\n",
       "    <tr>\n",
       "      <th>max</th>\n",
       "      <td>15199.000000</td>\n",
       "      <td>912.000000</td>\n",
       "    </tr>\n",
       "  </tbody>\n",
       "</table>\n",
       "</div>"
      ],
      "text/plain": [
       "        Unnamed: 0    Quantity\n",
       "mean   7599.500000  118.329211\n",
       "std    4388.006381   89.308038\n",
       "min       0.000000    3.000000\n",
       "25%    3799.750000   64.000000\n",
       "50%    7599.500000   88.000000\n",
       "75%   11399.250000  143.000000\n",
       "max   15199.000000  912.000000"
      ]
     },
     "execution_count": 38,
     "metadata": {},
     "output_type": "execute_result"
    }
   ],
   "source": [
    "train1 = train.describe()\n",
    "train1 = train1.drop('count')\n",
    "train1"
   ]
  },
  {
   "cell_type": "markdown",
   "metadata": {},
   "source": [
    "### Most Common Words"
   ]
  },
  {
   "cell_type": "code",
   "execution_count": 39,
   "metadata": {},
   "outputs": [
    {
     "name": "stdout",
     "output_type": "stream",
     "text": [
      "movie: 25721\n",
      "film: 22479\n",
      "one: 15519\n",
      "like: 11824\n",
      "good: 8595\n",
      "even: 7334\n",
      "would: 7265\n",
      "time: 7115\n",
      "really: 6948\n",
      "see: 6721\n"
     ]
    }
   ],
   "source": [
    "from collections import Counter\n",
    "from nltk.tokenize import word_tokenize\n",
    "\n",
    "#Join all reviews into a single string\n",
    "allRev = ' '.join(train['review'])\n",
    "\n",
    "#Tokenize the string into individual words\n",
    "words = word_tokenize(allRev)\n",
    "\n",
    "#Count the frequency of each word\n",
    "wordCount = Counter(words)\n",
    "\n",
    "#Sort the words based on their frequency\n",
    "sortedWords = sorted(wordCount.items(), key=lambda x: x[1], reverse=True)\n",
    "\n",
    "#Display the most common 10 words in all the dataset\n",
    "for word, count in sortedWords[:10]:\n",
    "    print(f'{word}: {count}')"
   ]
  },
  {
   "cell_type": "markdown",
   "metadata": {},
   "source": [
    "### Common Phrases using Bigrams"
   ]
  },
  {
   "cell_type": "code",
   "execution_count": 40,
   "metadata": {},
   "outputs": [
    {
     "name": "stdout",
     "output_type": "stream",
     "text": [
      "Top 10 Bigrams:\n",
      "('ever', 'seen'): 778\n",
      "('ive', 'seen'): 651\n",
      "('special', 'effects'): 639\n",
      "('even', 'though'): 589\n",
      "('dont', 'know'): 582\n",
      "('one', 'best'): 539\n",
      "('looks', 'like'): 509\n",
      "('waste', 'time'): 443\n",
      "('much', 'better'): 440\n",
      "('see', 'movie'): 439\n"
     ]
    }
   ],
   "source": [
    "from nltk import ngrams\n",
    "from nltk.tokenize import word_tokenize\n",
    "from nltk.probability import FreqDist\n",
    "import pandas as pd\n",
    "\n",
    "#First we create another column which will contain the review text but tokenized\n",
    "train['tokens'] = train['review'].apply(word_tokenize)\n",
    "\n",
    "#Function to generate n-grams for a given review\n",
    "def generate_ngrams(tokens, n):\n",
    "    return list(ngrams(tokens, n))\n",
    "\n",
    "#Apply the function to all reviews\n",
    "#Create another column that contains will contain all bigrams created by the function we created above.\n",
    "train['bigrams'] = train['tokens'].apply(lambda x: generate_ngrams(x, 2))\n",
    "\n",
    "#Flatten the list of bigrams\n",
    "#Create an empty list to store all bigrams\n",
    "all_bigrams = []\n",
    "\n",
    "#Iterate over each list of bigrams in the 'bigrams' column\n",
    "for sublist in train['bigrams']:\n",
    "    #Iterate over each bigram in the current sublist\n",
    "    for bigram in sublist:\n",
    "        #Append the bigram to the list\n",
    "        all_bigrams.append(bigram)\n",
    "\n",
    "#Calculate the frequency distribution of bigrams\n",
    "bigram_freq_dist = FreqDist(all_bigrams)\n",
    "\n",
    "#Print the most common bigrams\n",
    "print(\"Top 10 Bigrams:\")\n",
    "for bigram, frequency in bigram_freq_dist.most_common(10):\n",
    "    print(f'{bigram}: {frequency}')\n"
   ]
  },
  {
   "cell_type": "markdown",
   "metadata": {},
   "source": [
    "### Sentiment Distribution"
   ]
  },
  {
   "cell_type": "code",
   "execution_count": 41,
   "metadata": {},
   "outputs": [
    {
     "data": {
      "image/png": "[encoded data removed]",
      "text/plain": [
       "<Figure size 600x600 with 1 Axes>"
      ]
     },
     "metadata": {},
     "output_type": "display_data"
    },
    {
     "name": "stdout",
     "output_type": "stream",
     "text": [
      "Sentiment Label Distribution:\n",
      "positive    7703\n",
      "negative    7497\n",
      "Name: sentiment, dtype: int64\n"
     ]
    }
   ],
   "source": [
    "import matplotlib.pyplot as plt\n",
    "\n",
    "#Check the distribution of sentiment labels\n",
    "sent_dist = train['sentiment'].value_counts()\n",
    "\n",
    "#Plot the distribution as a pie chart\n",
    "plt.figure(figsize=(6, 6))\n",
    "plt.pie(sent_dist, labels=sent_dist.index, autopct='%1.1f%%')\n",
    "plt.title('Sentiment Distribution in Training Dataset')\n",
    "plt.show()\n",
    "\n",
    "# Display the count of each sentiment label\n",
    "print(\"Sentiment Label Distribution:\")\n",
    "print(sent_dist)"
   ]
  },
  {
   "cell_type": "markdown",
   "metadata": {},
   "source": [
    "## 4. Text Classification Model"
   ]
  },
  {
   "cell_type": "code",
   "execution_count": 42,
   "metadata": {},
   "outputs": [
    {
     "name": "stdout",
     "output_type": "stream",
     "text": [
      "Accuracy: 0.8821052631578947\n",
      "Classification Report:\n",
      "              precision    recall  f1-score   support\n",
      "\n",
      "    negative       0.89      0.87      0.88      1910\n",
      "    positive       0.87      0.89      0.88      1890\n",
      "\n",
      "    accuracy                           0.88      3800\n",
      "   macro avg       0.88      0.88      0.88      3800\n",
      "weighted avg       0.88      0.88      0.88      3800\n",
      "\n"
     ]
    }
   ],
   "source": [
    "#Import libraries for classification model\n",
    "from sklearn.feature_extraction.text import TfidfVectorizer\n",
    "from sklearn.linear_model import LogisticRegression\n",
    "from sklearn.metrics import accuracy_score, classification_report\n",
    "\n",
    "#Feature extraction\n",
    "vectorizer = TfidfVectorizer(max_features=10000)\n",
    "#Fit reviews column to train and test data for the model using sklearn library.\n",
    "X_train = vectorizer.fit_transform(train['review'])\n",
    "X_test = vectorizer.transform(test['review'])\n",
    "\n",
    "#Model training with Logistic Regression\n",
    "model = LogisticRegression()\n",
    "#Give the model the training data and it's respective sentiment so it can learn\n",
    "model.fit(X_train, train['sentiment'])\n",
    "\n",
    "#Model evaluation\n",
    "#predict values of the X_test variable created earlier\n",
    "y_pred = model.predict(X_test)\n",
    "#Compute accuracy to see how well our model is performing, it compares predictions vs actual values.\n",
    "accuracy = accuracy_score(test['sentiment'], y_pred)\n",
    "#Print Results\n",
    "print(\"Accuracy:\", accuracy)\n",
    "print(\"Classification Report:\")\n",
    "print(classification_report(test['sentiment'], y_pred))"
   ]
  },
  {
   "cell_type": "code",
   "execution_count": 43,
   "metadata": {},
   "outputs": [
    {
     "data": {
      "image/png": "[encoded data removed]",
      "text/plain": [
       "<Figure size 600x400 with 1 Axes>"
      ]
     },
     "metadata": {},
     "output_type": "display_data"
    }
   ],
   "source": [
    "#import plotting libraries\n",
    "import matplotlib.pyplot as plt\n",
    "import seaborn as sns\n",
    "from sklearn.metrics import confusion_matrix\n",
    "\n",
    "#Plot confusion matrix\n",
    "cm = confusion_matrix(test['sentiment'], y_pred)\n",
    "plt.figure(figsize=(6, 4))\n",
    "sns.heatmap(cm, annot=True, fmt='d', cmap='Blues', cbar=False)\n",
    "plt.title('Confusion Matrix')\n",
    "plt.xlabel('Predicted')\n",
    "plt.ylabel('Actual')\n",
    "#0 is Negative and 1 is Positive reviews\n",
    "plt.show()\n"
   ]
  }
 ],
 "metadata": {
  "kernelspec": {
   "display_name": "dsenv",
   "language": "python",
   "name": "python3"
  },
  "language_info": {
   "codemirror_mode": {
    "name": "ipython",
    "version": 3
   },
   "file_extension": ".py",
   "mimetype": "text/x-python",
   "name": "python",
   "nbconvert_exporter": "python",
   "pygments_lexer": "ipython3",
   "version": "3.11.8"
  }
 },
 "nbformat": 4,
 "nbformat_minor": 2
}
